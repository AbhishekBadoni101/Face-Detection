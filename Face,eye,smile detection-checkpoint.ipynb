{
 "cells": [
  {
   "cell_type": "code",
   "execution_count": 1,
   "metadata": {},
   "outputs": [],
   "source": [
    "import cv2\n"
   ]
  },
  {
   "cell_type": "code",
   "execution_count": 30,
   "metadata": {},
   "outputs": [],
   "source": [
    "cam = cv2.VideoCapture(0)\n",
    "face_xml = r'C:\\Users\\PRABHA BADONI\\Downloads\\face.xml'\n",
    "eye_xml = r'C:\\Users\\PRABHA BADONI\\Downloads\\eye.xml'\n",
    "smile_xml = r'C:\\Users\\PRABHA BADONI\\Downloads\\smile.xml'\n",
    "face_cascade = cv2.CascadeClassifier(face_xml)\n",
    "eye_cascade = cv2.CascadeClassifier(eye_xml)\n",
    "smile_cascade = cv2.CascadeClassifier(smile_xml)\n",
    "while True:\n",
    "    ret,img = cam.read()\n",
    "    face= face_cascade.detectMultiScale(img)\n",
    "    eye=eye_cascade.detectMultiScale(img)\n",
    "    smile=smile_cascade.detectMultiScale(img)\n",
    "    for x,y,w,h in face:\n",
    "        cv2.rectangle(img,(x,y),(x+w,y+h),(255,0,0),3)\n",
    "        single_face = img[y:y+h,x:x+w]\n",
    "        eye = eye_cascade.detectMultiScale(single_face,1.2,10)\n",
    "        smile = smile_cascade.detectMultiScale(single_face,1.8,15)\n",
    "        for sx,sy,sw,sh in eye:\n",
    "            cv2.rectangle(single_face,(sx,sy),(sx+sw,sy+sh),(0,255,0),3)\n",
    "            for ex,ey,ew,eh in smile:\n",
    "                cv2.rectangle(single_face,(ex,ey),(ex+ew,ey+ew),(0,0,255),2)\n",
    "    cv2.imshow('WebCam',img)      \n",
    "        \n",
    "    if cv2.waitKey(1) == 13:\n",
    "        break\n",
    "cam.release()\n",
    "cv2.destroyAllWindows()\n"
   ]
  },
  {
   "cell_type": "code",
   "execution_count": null,
   "metadata": {},
   "outputs": [],
   "source": []
  }
 ],
 "metadata": {
  "kernelspec": {
   "display_name": "Python 3",
   "language": "python",
   "name": "python3"
  },
  "language_info": {
   "codemirror_mode": {
    "name": "ipython",
    "version": 3
   },
   "file_extension": ".py",
   "mimetype": "text/x-python",
   "name": "python",
   "nbconvert_exporter": "python",
   "pygments_lexer": "ipython3",
   "version": "3.8.5"
  }
 },
 "nbformat": 4,
 "nbformat_minor": 4
}
